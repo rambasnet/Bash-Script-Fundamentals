{
 "cells": [
  {
   "cell_type": "markdown",
   "metadata": {},
   "source": [
    "# User-defined Functions\n",
    "- shell functions are \"mini-script\" that are located inside other scripts\n",
    "- can act as autonomous programs\n",
    "- syntax to define functions:\n",
    "```bash\n",
    "function funcName{\n",
    "    # commands\n",
    "    return\n",
    "}\n",
    "```\n",
    "\n",
    "```bash\n",
    "funcName (){\n",
    "    # commands\n",
    "    return\n",
    "}\n",
    "```\n",
    "- syntax to call functions:\n",
    "```bash\n",
    "funcName arg1 arg2\n",
    "```"
   ]
  },
  {
   "cell_type": "code",
   "execution_count": 7,
   "metadata": {},
   "outputs": [
    {
     "name": "stdout",
     "output_type": "stream",
     "text": [
      "Hello there James!\n",
      "name = John\n",
      "name1 = Jake\n"
     ]
    }
   ],
   "source": [
    "%%bash\n",
    "#!/bin/bash\n",
    "\n",
    "# example of bash function, local and global variables, \n",
    "# and passing arguments to function\n",
    "name=\"John\"\n",
    "\n",
    "sayHello() {\n",
    "    local name1=\"Jake\"\n",
    "    echo \"Hello there $1!\" # first argument\n",
    "    echo name = $name\n",
    "    echo name1 = $name1\n",
    "    return\n",
    "    #exit 1\n",
    "}\n",
    "\n",
    "sayHello \"James\"\n",
    "\n",
    "# call function without passing arguments and storing the echoed values in ans\n",
    "#ans=$(sayHello)\n",
    "#echo \"returned values =\" $ans"
   ]
  },
  {
   "cell_type": "markdown",
   "metadata": {},
   "source": [
    "## Passing arguments to programs and functions\n",
    "### see demo-scripts/arguments.sh program"
   ]
  },
  {
   "cell_type": "code",
   "execution_count": 2,
   "metadata": {},
   "outputs": [
    {
     "name": "stdout",
     "output_type": "stream",
     "text": [
      "Program Name: bash\n",
      "First argument : \n",
      "Second argument : \n",
      "Quoted Values: \n",
      "Quoted Values: \n",
      "Total Number of arguments : 0\n"
     ]
    }
   ],
   "source": [
    "%%bash\n",
    "#!/bin/bash\n",
    "\n",
    "echo \"Program Name: $0\"\n",
    "echo \"First argument : $1\"\n",
    "echo \"Second argument : $2\"\n",
    "echo \"Quoted Values: $@\"\n",
    "echo \"Quoted Values: $*\"\n",
    "echo \"Total Number of arguments : $#\""
   ]
  },
  {
   "cell_type": "markdown",
   "metadata": {},
   "source": [
    "## Top-Down Design\n",
    "- as programs get larger and more complex, they become more difficult to design, code and maintain\n",
    "- it is often a good idea to break large, complex tasks into a series of small, simpler tasks\n",
    "\n",
    "### help a Martian survive on Earth\n",
    "HOW TO BUY FOOD FROM GROCERY STORE\n",
    "\n",
    "1. Get in car\n",
    "2. Drive to market\n",
    "- Park car\n",
    "    1. Find parking space\n",
    "    - Drive car into space\n",
    "    - Turn off motor\n",
    "    - Set parking brake\n",
    "    - Exit car\n",
    "    - Lock car\n",
    "4. Enter market\n",
    "5. Purchase food\n",
    "6. Return to car\n",
    "7. Drive home\n",
    "8. Park car\n",
    "9. Enter house\n",
    "\n",
    "\n",
    "- Function can be used to refine each step"
   ]
  },
  {
   "cell_type": "code",
   "execution_count": null,
   "metadata": {},
   "outputs": [],
   "source": [
    "%%bash\n",
    "#!/bin/bash\n",
    "\n",
    "# Top-Down Design demo\n",
    "step1 () {\n",
    "    echo \"Get in car\"\n",
    "    echo \"Put sit belt on\"\n",
    "    echo \"Start engine\"\n",
    "    return\n",
    "}\n",
    "\n",
    "function step2 {\n",
    "    echo \"Drive to market...\"\n",
    "    echo \"Turn GPS on\"\n",
    "    return\n",
    "}\n",
    "\n",
    "step3 () {\n",
    "    echo \"Find parking space\"\n",
    "    echo \"Drive car into space\"\n",
    "    echo \"Turn off motor\"\n",
    "    echo \"Set parking brake\"\n",
    "    echo \"Exit car\"\n",
    "    echo \"Lock car\"\n",
    "}\n",
    "\n",
    "\n",
    "# Main program starts here\n",
    "\n",
    "step1\n",
    "step2\n",
    "step3"
   ]
  },
  {
   "cell_type": "markdown",
   "metadata": {},
   "source": [
    "## Program to print a system information report\n",
    "- uses here script\n",
    "- see demo-scripts/hereScripts.sh"
   ]
  },
  {
   "cell_type": "code",
   "execution_count": null,
   "metadata": {},
   "outputs": [],
   "source": [
    "%%bash\n",
    "#!/bin/bash\n",
    "# Program to output a system information page\n",
    "TITLE=\"System Information Report For $HOSTNAME\"\n",
    "CURRENT_TIME=$(date +\"%x %r %Z\")\n",
    "TIMESTAMP=\"Generated $CURRENT_TIME, by $USER\"\n",
    "\n",
    "report_uptime () {\n",
    "    return # function must contain at least one statement\n",
    "}\n",
    "\n",
    "report_disk_space () {\n",
    "    return\n",
    "}\n",
    "\n",
    "report_home_space () {\n",
    "    return\n",
    "}\n",
    "\n",
    "cat << _EOF_\n",
    "<HTML>\n",
    "    <HEAD>\n",
    "        <TITLE>$TITLE</TITLE>\n",
    "    </HEAD>\n",
    "    <BODY>\n",
    "        <H1>$TITLE</H1>\n",
    "        <P>$TIMESTAMP</P>\n",
    "        $(report_uptime)\n",
    "        $(report_disk_space)\n",
    "        $(report_home_space)\n",
    "\n",
    "    </BODY>\n",
    "</HTML>\n",
    "_EOF_"
   ]
  },
  {
   "cell_type": "code",
   "execution_count": null,
   "metadata": {},
   "outputs": [],
   "source": [
    "%%bash\n",
    "#!/bin/bash\n",
    "# Program to output a system information page\n",
    "TITLE=\"System Information Report For $HOSTNAME\"\n",
    "CURRENT_TIME=$(date +\"%x %r %Z\")\n",
    "TIMESTAMP=\"Generated on $CURRENT_TIME by $USER\"\n",
    "\n",
    "report_uptime () {\n",
    "    echo \"\n",
    "        <H2>System Uptime</H2>\n",
    "        <PRE>$(uptime)</PRE>\n",
    "        \"\n",
    "    return # function must contain at least one statement\n",
    "}\n",
    "\n",
    "report_disk_space () {\n",
    "    return\n",
    "}\n",
    "\n",
    "report_home_space () {\n",
    "    return\n",
    "}\n",
    "\n",
    "cat << _EOF_\n",
    "<HTML>\n",
    "    <HEAD>\n",
    "        <TITLE>$TITLE</TITLE>\n",
    "    </HEAD>\n",
    "    <BODY>\n",
    "        <H1>$TITLE</H1>\n",
    "        <P>$TIMESTAMP</P>\n",
    "        $(report_uptime)\n",
    "        $(report_disk_space)\n",
    "        $(report_home_space)\n",
    "\n",
    "    </BODY>\n",
    "</HTML>\n",
    "_EOF_"
   ]
  },
  {
   "cell_type": "code",
   "execution_count": null,
   "metadata": {},
   "outputs": [],
   "source": []
  }
 ],
 "metadata": {
  "kernelspec": {
   "display_name": "Python 3",
   "language": "python",
   "name": "python3"
  },
  "language_info": {
   "codemirror_mode": {
    "name": "ipython",
    "version": 3
   },
   "file_extension": ".py",
   "mimetype": "text/x-python",
   "name": "python",
   "nbconvert_exporter": "python",
   "pygments_lexer": "ipython3",
   "version": "3.8.10"
  }
 },
 "nbformat": 4,
 "nbformat_minor": 4
}
