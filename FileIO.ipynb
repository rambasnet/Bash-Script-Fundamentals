{
 "cells": [
  {
   "cell_type": "markdown",
   "metadata": {},
   "source": [
    "# File Input / Output (IO)"
   ]
  },
  {
   "cell_type": "markdown",
   "metadata": {},
   "source": [
    "## Read contents from a text file\n",
    "- cat\n",
    "- < input redirection"
   ]
  },
  {
   "cell_type": "code",
   "execution_count": 5,
   "metadata": {},
   "outputs": [
    {
     "name": "stdout",
     "output_type": "stream",
     "text": [
      "1 Ram Basnet 100 200\n",
      "2 John Doe 50 75\n",
      "3 Jake Smith 2 30\n"
     ]
    }
   ],
   "source": [
    "! cat ./demo-scripts/input.txt"
   ]
  },
  {
   "cell_type": "code",
   "execution_count": 9,
   "metadata": {},
   "outputs": [
    {
     "name": "stdout",
     "output_type": "stream",
     "text": [
      "1 Ram Basnet 100 200 2 John Doe 50 75 3 Jake Smith 2 30\n"
     ]
    }
   ],
   "source": [
    "! echo $(< ./demo-scripts/input.txt)"
   ]
  },
  {
   "cell_type": "code",
   "execution_count": 20,
   "metadata": {},
   "outputs": [
    {
     "name": "stdout",
     "output_type": "stream",
     "text": [
      "hello "
     ]
    }
   ],
   "source": [
    "! printf \"%s \" hello"
   ]
  },
  {
   "cell_type": "markdown",
   "metadata": {},
   "source": [
    "## parse file contents using while loop\n",
    "- format output using printf command"
   ]
  },
  {
   "cell_type": "code",
   "execution_count": 95,
   "metadata": {},
   "outputs": [
    {
     "name": "stdout",
     "output_type": "stream",
     "text": [
      "1. Ram    Basnet 100 100\n",
      "2. John    Doe 50 75\n",
      "3. Jake    Smith 25 30\n"
     ]
    }
   ],
   "source": [
    "%%bash\n",
    "\n",
    "#! /bin/bash\n",
    "\n",
    "cat ./demo-scripts/input.txt | while read id fname lname; do\n",
    "    echo \"$id. $fname    $lname\" # last 3 columsn are read into lname\n",
    "done"
   ]
  },
  {
   "cell_type": "code",
   "execution_count": 94,
   "metadata": {},
   "outputs": [
    {
     "name": "stdout",
     "output_type": "stream",
     "text": [
      "3. Jake Smith 25 30\n",
      "2. John Doe 50 75\n",
      "1. Ram Basnet 100 100\n"
     ]
    }
   ],
   "source": [
    "%%bash\n",
    "\n",
    "#! /bin/bash\n",
    "\n",
    "cat ./demo-scripts/input.txt | sort -nr | while read id fname lname test1 test2; do\n",
    "    echo \"$id. $fname $lname $test1 $test2\"\n",
    "done"
   ]
  },
  {
   "cell_type": "code",
   "execution_count": 123,
   "metadata": {},
   "outputs": [
    {
     "name": "stdout",
     "output_type": "stream",
     "text": [
      "3. Jake Smith 25 30\n",
      "2. John Doe 50 75\n",
      "1. Ram Basnet 100 100\n"
     ]
    }
   ],
   "source": [
    "%%bash\n",
    "\n",
    "#! /bin/bash\n",
    "\n",
    "while read id fname lname test1 test2; do\n",
    "    echo \"$id. $fname $lname $test1 $test2\"\n",
    "done < ./demo-scripts/input.txt  | sort -nr"
   ]
  },
  {
   "cell_type": "markdown",
   "metadata": {},
   "source": [
    "## grade book example"
   ]
  },
  {
   "cell_type": "markdown",
   "metadata": {},
   "source": [
    "### bash doesn't do floating point arithmetic; use Python!"
   ]
  },
  {
   "cell_type": "code",
   "execution_count": 70,
   "metadata": {},
   "outputs": [
    {
     "name": "stdout",
     "output_type": "stream",
     "text": [
      "/bin/sh: 2.5+3.2 : syntax error: invalid arithmetic operator (error token is \".5+3.2 \")\n"
     ]
    }
   ],
   "source": [
    "! echo $(( 2.5+3.2 ))"
   ]
  },
  {
   "cell_type": "code",
   "execution_count": 83,
   "metadata": {},
   "outputs": [
    {
     "name": "stdout",
     "output_type": "stream",
     "text": [
      "0\n"
     ]
    }
   ],
   "source": [
    "! echo $((1/3))"
   ]
  },
  {
   "cell_type": "code",
   "execution_count": 72,
   "metadata": {},
   "outputs": [
    {
     "name": "stdout",
     "output_type": "stream",
     "text": [
      "0.3333333333333333\n"
     ]
    }
   ],
   "source": [
    "! echo \"print(1/3)\" | python # use python!"
   ]
  },
  {
   "cell_type": "code",
   "execution_count": 90,
   "metadata": {},
   "outputs": [
    {
     "name": "stdout",
     "output_type": "stream",
     "text": [
      "=====================================================================================\n",
      "ID         First Name           Last Name                Test 1     Test 2    Average\n",
      "=====================================================================================\n",
      "1          Ram                  Basnet                   100.00     100.00     100.00\n",
      "2          John                 Doe                       50.00      75.00      62.50\n",
      "3          Jake                 Smith                     25.00      30.00      27.50\n",
      "=====================================================================================\n"
     ]
    }
   ],
   "source": [
    "%%bash\n",
    "\n",
    "#! /bin/bash\n",
    "\n",
    "nW=10\n",
    "fNW=20\n",
    "lNW=20\n",
    "printf '=%.0s' {1..85} # repeat = 85 times\n",
    "echo\n",
    "printf \"%-${nW}s %-${fNW}s %-${lNW}s %${nW}s %${nW}s %${nW}s\\n\" \\\n",
    "    ID \"First Name\" \"Last Name\" \"Test 1\" \"Test 2\" \"Average\"\n",
    "# left justification -N char wide column\n",
    "printf '=%.0s' {1..85} # repeat = 85 times\n",
    "echo\n",
    "\n",
    "cat ./demo-scripts/input.txt | while read id fname lname test1 test2; do\n",
    "    # bash doesn't do floating point arithmetic!\n",
    "    avg=$(echo \"print(($test1+$test2)/2)\" | python)\n",
    "    printf \"%-${nW}s %-${fNW}s %-${lNW}s %${nW}.2f %${nW}.2f %${nW}.2f\\n\" $id $fname $lname $test1 $test2 $avg\n",
    "done\n",
    "printf '=%.0s' {1..85} # repeat = 85 times\n",
    "echo"
   ]
  },
  {
   "cell_type": "markdown",
   "metadata": {},
   "source": [
    "## write to file\n",
    "- redirect output from terminal to a file using > or >> commands"
   ]
  },
  {
   "cell_type": "markdown",
   "metadata": {},
   "source": [
    "### copy file line by line example"
   ]
  },
  {
   "cell_type": "code",
   "execution_count": 105,
   "metadata": {},
   "outputs": [],
   "source": [
    "%%bash\n",
    "# copy input.txt to inputBackup.txt line by line\n",
    "cat ./demo-scripts/input.txt | while read line; do\n",
    "    echo $line >> ./demo-scripts/inputBackup.txt\n",
    "done"
   ]
  },
  {
   "cell_type": "code",
   "execution_count": 107,
   "metadata": {},
   "outputs": [
    {
     "name": "stdout",
     "output_type": "stream",
     "text": [
      "1 Ram Basnet 100 100\n",
      "2 John Doe 50 75\n",
      "3 Jake Smith 25 30\n"
     ]
    }
   ],
   "source": [
    "! cat ./demo-scripts/inputBackup.txt"
   ]
  },
  {
   "cell_type": "code",
   "execution_count": 110,
   "metadata": {},
   "outputs": [
    {
     "name": "stdout",
     "output_type": "stream",
     "text": [
      "1 Ram Basnet 100 100\t\t\t\t\t\t1 Ram Basnet 100 100\n",
      "2 John Doe 50 75\t\t\t\t\t\t2 John Doe 50 75\n",
      "3 Jake Smith 25 30\t\t\t\t\t\t3 Jake Smith 25 30\n"
     ]
    }
   ],
   "source": [
    "! diff -y ./demo-scripts/inputBackup.txt ./demo-scripts/inputBackup.txt # output side-by-side"
   ]
  },
  {
   "cell_type": "markdown",
   "metadata": {},
   "source": [
    "### copy file column by column example"
   ]
  },
  {
   "cell_type": "code",
   "execution_count": 118,
   "metadata": {},
   "outputs": [],
   "source": [
    "%%bash\n",
    "# copy input.txt to inputBackup.txt line by line\n",
    "while read i fname lname grade1 grade2; do\n",
    "    echo \"$i $fname $lname $grade1 $grade2\" >> ./demo-scripts/inputBackup1.txt\n",
    "done < ./demo-scripts/input.txt"
   ]
  },
  {
   "cell_type": "code",
   "execution_count": 119,
   "metadata": {},
   "outputs": [
    {
     "name": "stdout",
     "output_type": "stream",
     "text": [
      "1 Ram Basnet 100 100\t\t\t\t\t\t1 Ram Basnet 100 100\n",
      "2 John Doe 50 75\t\t\t\t\t\t2 John Doe 50 75\n",
      "3 Jake Smith 25 30\t\t\t\t\t\t3 Jake Smith 25 30\n",
      "\t\t\t\t\t\t\t      >\t1 Ram Basnet 100 100\n",
      "\t\t\t\t\t\t\t      >\t2 John Doe 50 75\n",
      "\t\t\t\t\t\t\t      >\t3 Jake Smith 25 30\n"
     ]
    }
   ],
   "source": [
    "! diff -y ./demo-scripts/inputBackup.txt ./demo-scripts/inputBackup1.txt # output side-by-side"
   ]
  },
  {
   "cell_type": "markdown",
   "metadata": {},
   "source": [
    "### redirect grade book to an output file in terminal\n",
    "- demo-scripts/gradebook.sh > finalGrade.txt"
   ]
  },
  {
   "cell_type": "code",
   "execution_count": 99,
   "metadata": {},
   "outputs": [],
   "source": [
    "! bash ./demo-scripts/gradebook.sh > ./demo-scripts/finalGrade.txt"
   ]
  },
  {
   "cell_type": "code",
   "execution_count": 101,
   "metadata": {},
   "outputs": [
    {
     "name": "stdout",
     "output_type": "stream",
     "text": [
      "=====================================================================================\n",
      "ID         First Name           Last Name                Test 1     Test 2    Average\n",
      "=====================================================================================\n",
      "1          Ram                  Basnet                   100.00     100.00     100.00\n",
      "2          John                 Doe                       50.00      75.00      62.50\n",
      "3          Jake                 Smith                     25.00      30.00      27.50\n",
      "=====================================================================================\n"
     ]
    }
   ],
   "source": [
    "! cat ./demo-scripts/finalGrade.txt"
   ]
  },
  {
   "cell_type": "code",
   "execution_count": null,
   "metadata": {},
   "outputs": [],
   "source": []
  }
 ],
 "metadata": {
  "kernelspec": {
   "display_name": "Python 3",
   "language": "python",
   "name": "python3"
  },
  "language_info": {
   "codemirror_mode": {
    "name": "ipython",
    "version": 3
   },
   "file_extension": ".py",
   "mimetype": "text/x-python",
   "name": "python",
   "nbconvert_exporter": "python",
   "pygments_lexer": "ipython3",
   "version": "3.8.10"
  }
 },
 "nbformat": 4,
 "nbformat_minor": 4
}
