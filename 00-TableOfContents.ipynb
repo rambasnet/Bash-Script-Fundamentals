{
 "cells": [
  {
   "cell_type": "markdown",
   "metadata": {},
   "source": [
    "# Bash Script Fundamentals\n",
    "\n",
    "## Table of Contents\n",
    "**[1. Data, Variables & Std IO ](./DataTypesVariables.ipynb)** <br>\n",
    "**[2. Basic Arithmetic](./BasicArithmetic.ipynb)** <br>\n",
    "**[3. Conditionals-Branching](./Conditionals-Branching.ipynb)** <br>\n",
    "**[4. Loops](./Loops.ipynb)** <br>\n",
    "**[5. Menu Example](./Menu.ipynb)**<br>\n",
    "**[6. Arrays](./Arrays.ipynb)**<br>\n",
    "**[7. User-defined Functions](./UserDefinedFunctions.ipynb)**<br>\n",
    "**[8. File IO](./FileIO.ipynb)**<br>"
   ]
  },
  {
   "cell_type": "code",
   "execution_count": null,
   "metadata": {},
   "outputs": [],
   "source": []
  }
 ],
 "metadata": {
  "kernelspec": {
   "display_name": "Python 3",
   "language": "python",
   "name": "python3"
  },
  "language_info": {
   "codemirror_mode": {
    "name": "ipython",
    "version": 3
   },
   "file_extension": ".py",
   "mimetype": "text/x-python",
   "name": "python",
   "nbconvert_exporter": "python",
   "pygments_lexer": "ipython3",
   "version": "3.8.5"
  }
 },
 "nbformat": 4,
 "nbformat_minor": 2
}
